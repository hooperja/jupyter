{
 "cells": [
  {
   "cell_type": "markdown",
   "metadata": {},
   "source": [
    "#### Start here\n",
    "To run \"cells\" in this notebook, click inside the cell and hit shift-enter (hold down \"shift\" and hit \"enter\"). Begin by running this \"initialization cell\"."
   ]
  },
  {
   "cell_type": "code",
   "execution_count": null,
   "metadata": {},
   "outputs": [],
   "source": [
    "# Initialization cell\n",
    "options(digits=9, repr.plot.width=4.5, repr.plot.height=3.5, scipen=5)\n",
    "set.seed(20195029)"
   ]
  },
  {
   "cell_type": "markdown",
   "metadata": {},
   "source": [
    "# Bootstrapping: Resampling a sample\n",
    "\n",
    "A \"wet season\" is defined as a month where the daily precipitation exceeds an average of 60 mm per day. Researchers have kept track of the daily rainfall at various locations in a tropical regeion. Consider the data below to be the **population**. We have the benefit, then, of calculating the population mean and standard deviation."
   ]
  },
  {
   "cell_type": "code",
   "execution_count": null,
   "metadata": {},
   "outputs": [],
   "source": [
    "rainfall.population = c(81, 88.6, 64.3, 70.1, 76.4, 72, 66.1, 82.3, 70.5, 66.7, 66.8, 66.7, 82.8, 88.1, 88.9, 79.7, 68.7, 81.3, 71.9, 85.3, 71.7, 68.7, 76.2, 67.3, 67.2, 63.4, 77.8, 71.8, 67.7, 67.7, 67.6, 63.1, 82.7, 65.9, 77.7, 68.8, 66.9, 70.9, 66.1, 73.7, 63.5, 66.3, 64.4, 67, 88.5, 73.9, 74.1, 87.6, 67.1, 71.3, 64.8, 70.3, 81.2, 64.2, 75.2, 71.4, 66.2, 63.4, 63.9, 75.9, 65.3, 82.7, 73.2, 76.7, 70.3, 78, 63.6, 76.4, 76.4, 69.8, 72.2, 75.7, 72.6, 78, 69.5, 72, 83.8, 72.7, 63.9, 72.4, 69.4, 75.3, 77.3, 66.3, 74.6, 74.9, 68, 87.6, 70.9, 78.8, 65.7, 70.6, 80.7, 66.3, 79.2, 67, 64, 72.7, 66.2, 66.1, 63.5, 83.2, 80.6, 71.8, 63.4, 71.2, 69.1, 77, 66.8, 83.9, 69.3, 63, 67.3, 63.5, 62.7, 65.4, 68, 67.6, 68.7, 69.8, 69.7, 71.5, 64.8, 97.4, 77.7, 72.2, 71.7, 75.5, 66.1, 80.1, 75, 69, 76.5, 64.8, 63.4, 64.2, 98, 77.4, 65.8, 74.7, 73, 65.9, 63.3, 66, 72.1, 70.2, 78.6, 70.2, 86.5, 66.9, 66, 80.8, 78.1, 76.9, 75.3, 71.8, 68, 65.8, 79.2, 75.1, 66.7, 66.3, 62.9, 67.4, 69.8, 66, 90.6, 83.4, 81.2, 67.6, 66.7, 69.8, 75.6, 65.4, 100.3, 65.4, 63.8, 84, 77, 64.5, 66.9, 64.6, 75.1, 95.6, 63.8, 75.4, 69.6, 63.8, 68.3, 64.2, 80, 66.4, 69.9, 64.2, 65.9, 66.5, 79.9, 65.4, 66.3, 67.7, 78.8, 63.5, 68.1, 71.4, 77, 65.1, 74.7, 66.5, 77, 64, 64, 66.6, 78.8, 107.8, 69.9, 76, 67.5, 67.2, 76.6, 77.7, 82.7, 81.2, 71.2, 68.1, 74.8, 77.6, 85, 80.9, 63.3, 73, 65.6, 65.8, 65, 71.3, 64.8, 71.3, 65.5, 69.2, 79.3, 69.1, 73.6, 74, 72.4, 64.8, 66.8, 82, 64.6, 65.6, 73.7, 64.5, 64.2, 91.6, 75.2, 66.8, 64.9, 93.1, 68.1, 64, 65.4, 65.8, 65, 76.4, 65.1, 68.5, 88.9, 71.9, 65.1, 70.6, 66.6, 68.7, 63.9, 64.7, 63.9, 67.9, 88.2, 92.5, 70.2, 76.5, 76.2, 65.2, 75.4, 83, 78.2, 65, 69, 66.6, 87.8, 67.4, 71.2, 71.3, 66.5, 65.8, 68.2, 72.1, 70.3, 64, 78, 70.1, 67.7, 95, 65.2, 67, 72.3, 64.4, 64.5, 103.9, 72.8, 71, 65.2, 64.2, 66.9, 73.4, 79.2, 73.7, 68.4, 68.4, 65.9, 63.6, 65.7, 66.9, 63.4, 86.2, 69.5, 71.4, 69.4, 66.7, 65.5, 70.4, 73.8, 80, 64.3, 71.6, 74.1, 73.1, 76.9, 69, 66.1, 82.2, 93.8, 78, 64.2, 82.4, 93.4, 70.9, 77.3, 70.9, 76.6, 65.2, 68.1, 64.3, 74.2, 66.3, 68, 65.6, 73.4, 72.2, 70.4, 80, 70.5, 65.3, 74.9, 63.6, 64.7, 77.6, 65.3, 67.2, 66, 65.9, 63.4, 66.8, 72.9, 71.4, 68.2, 83.5, 80, 65.8, 77.3, 66.2, 75.1, 70.8, 68.9, 69.6, 68.4, 66, 64.8, 66.5, 70.9, 80.3, 69.1, 72.1, 71.1, 80.8, 83.6, 67.8, 63.8, 65, 67.2, 88.8, 68.5, 69.8, 68.9, 63.5, 90.4, 76.4, 71.6, 84.7, 77, 74.9, 75.3, 69.3, 83.1, 69, 74.3, 65.3, 92.5, 71.9, 63.2, 66.3, 74, 65.8, 69.7, 70.8, 67.8, 68.8, 69.6, 64, 69.4, 65.2, 69.5, 73.8, 68.6, 65.3, 65.9, 109.9, 64, 64.5, 71.4, 63.1, 67.8, 76.2, 90, 72.3, 70.7, 64.5, 77.3, 72.2, 66.6, 62.9, 71.7, 67.7, 84, 69.3, 63.5, 70.3, 69, 66.6, 68.7, 66.8, 65.7, 80.2, 107.5, 62.8, 85.4, 72.2, 65.3, 67.5, 65.6, 64.4, 69.3, 66.1, 66.4, 72.1, 66.6, 70.4, 80.3, 96.2, 67.7, 64.4, 76.9, 65.8, 91.5, 77.6, 75.8, 69.5, 80.2, 75.2, 73.8, 84, 67.5, 67, 74.1, 66.5, 63.5, 67.2, 87.3, 73.2, 65.6, 65.4, 68.5, 79)\n",
    "mu = mean(rainfall.population)\n",
    "sigma = sd(rainfall.population)\n",
    "print(c(mu,sigma))"
   ]
  },
  {
   "cell_type": "markdown",
   "metadata": {},
   "source": [
    "Suppose a researcher gathers a random sample of 12 observations from this population."
   ]
  },
  {
   "cell_type": "code",
   "execution_count": null,
   "metadata": {},
   "outputs": [],
   "source": [
    "rainfall.sample = sample(rainfall.population,12)\n",
    "print(rainfall.sample)"
   ]
  },
  {
   "cell_type": "markdown",
   "metadata": {},
   "source": [
    "What can be learned about the **population** mean and standard deviation from this *sample*? Using only information about the sample, can we infer anything about the population?\n",
    "\n",
    "Let's first explore the shape, center, and spread of our *sample*."
   ]
  },
  {
   "cell_type": "code",
   "execution_count": null,
   "metadata": {},
   "outputs": [],
   "source": [
    "mean(rainfall.sample)\n",
    "sd(rainfall.sample)\n",
    "hist(rainfall.sample)"
   ]
  },
  {
   "cell_type": "markdown",
   "metadata": {},
   "source": [
    "**Task**: Write a description of shape, center, and spread for this sample.\n",
    "\n",
    "[Type your response here. Just double-click in this text area.]\n",
    "\n",
    "How does the sample mean and sample standard deviation compare to the population mean and standard deviation?\n",
    "\n",
    "[Type your response here. Just double-click in this text area.]"
   ]
  },
  {
   "cell_type": "markdown",
   "metadata": {},
   "source": [
    "### Bootstrapping a sample\n",
    "\n",
    "Remember, our goal is to learn as much about the population using *only* information from a single sample. One strategy is to re-sample the sample over and over. This can provide an estimate for how the statistics of the sample mean and sample standard deviation might change from sample to sample.\n",
    "\n",
    "To resample a sample, think about writing each number in the sample onto a piece of paper and putting them into a hat. Draw out a slip of paper, write down the number, and put it back in the hat. Repeat this process until you have recreated a new sample of the same size as the original.\n",
    "\n",
    "Here is some code that does this:"
   ]
  },
  {
   "cell_type": "code",
   "execution_count": null,
   "metadata": {},
   "outputs": [],
   "source": [
    "# Resample a sample\n",
    "# Notice the \"replace=T\" code\n",
    "n = length(rainfall.sample)\n",
    "new.sample = sample(rainfall.sample,n,replace=T)\n",
    "print(new.sample)"
   ]
  },
  {
   "cell_type": "code",
   "execution_count": null,
   "metadata": {},
   "outputs": [],
   "source": [
    "mean(new.sample)"
   ]
  },
  {
   "cell_type": "markdown",
   "metadata": {},
   "source": [
    "The two cells above create a new \"sample\" (from the *existing sample*) and then report the mean. Run these a few times and try to understand what they are doing.\n",
    "\n",
    "The power of a computer now allows us to repeat this process systematically and observe the output each time. We will use a \"for loop\" to repeat this process. Consider the code below."
   ]
  },
  {
   "cell_type": "code",
   "execution_count": null,
   "metadata": {},
   "outputs": [],
   "source": [
    "n = length(rainfall.sample)\n",
    "for(i in 1:10) {\n",
    "    new.sample = sample(rainfall.sample,n,replace=T)\n",
    "    print(mean(new.sample))\n",
    "}"
   ]
  },
  {
   "cell_type": "markdown",
   "metadata": {},
   "source": [
    "### Task:\n",
    "Study the code above. What is it doing? What is it printing. Write a summary below.\n",
    "\n",
    "[Type your summary here.]\n"
   ]
  },
  {
   "cell_type": "markdown",
   "metadata": {},
   "source": [
    "## Using a \"container\" to hold the values each time\n",
    "\n",
    "Consider the code below."
   ]
  },
  {
   "cell_type": "code",
   "execution_count": null,
   "metadata": {},
   "outputs": [],
   "source": [
    "each.sample.mean = c()\n",
    "\n",
    "n = length(rainfall.sample)\n",
    "for(i in 1:10) {\n",
    "    new.sample = sample(rainfall.sample,n,replace=T)\n",
    "    each.sample.mean = c(each.sample.mean, mean(new.sample))\n",
    "}\n",
    "\n",
    "print(each.sample.mean)"
   ]
  },
  {
   "cell_type": "markdown",
   "metadata": {},
   "source": [
    "### Task:\n",
    "Study the code above. What is it doing? What is it printing. How does it compare to the previous code? Write a summary below.\n",
    "\n",
    "[Type your summary here.]\n"
   ]
  },
  {
   "cell_type": "markdown",
   "metadata": {},
   "source": [
    "### Iterate a LOT of times and study the results\n",
    "\n",
    "What if we repeat this process 1000 (or more) times. We could have a reasonable picture of how the sample mean behaves from sample to sample. Remember that each sample would have different values and therefore a different sample mean.\n",
    "\n",
    "Consider the code below."
   ]
  },
  {
   "cell_type": "code",
   "execution_count": null,
   "metadata": {},
   "outputs": [],
   "source": [
    "each.sample.mean = c()\n",
    "\n",
    "n = length(rainfall.sample)\n",
    "for(i in 1:1000) {\n",
    "    new.sample = sample(rainfall.sample,n,replace=T)\n",
    "    each.sample.mean = c(each.sample.mean, mean(new.sample))\n",
    "}\n",
    "\n",
    "hist(each.sample.mean)\n",
    "mean(each.sample.mean)\n",
    "sd(each.sample.mean)"
   ]
  },
  {
   "cell_type": "markdown",
   "metadata": {},
   "source": [
    "Use the information to \"describe the distribution\" of the sample means from each of these samples. Remember to include shape, center, and spread! (Hint: What does this shape seem to look like...?)\n",
    "\n",
    "[Type your response here.]"
   ]
  },
  {
   "cell_type": "markdown",
   "metadata": {},
   "source": [
    "### Reading off percentiles\n",
    "\n",
    "Using the *each.sample.mean* variable, we could read off the middle 90% of the possible values using the 5th and the 95th percentile. (Pause and convince yourself that the 5th and 95th percentiles represent the middle 90%.)"
   ]
  },
  {
   "cell_type": "code",
   "execution_count": null,
   "metadata": {},
   "outputs": [],
   "source": [
    "quantile(each.sample.mean,c(0.05,0.95))"
   ]
  },
  {
   "cell_type": "markdown",
   "metadata": {},
   "source": [
    "### Task:\n",
    "The values above represent a **90% confidence interval** for the **population mean**. Fill in the blanks below, to interpret this interval:\n",
    "\n",
    "Based on information from this *sample*, we can be 90% confident that the **population** mean is between ________ and ________\n",
    "\n",
    "#### Go check...\n",
    "...Go back and check the very beginning. *Was* the population mean between these two values? Our *process* has a 90% chance of containing the actual population mean. This one result either does or doesn't...\n",
    "\n",
    "### Task:\n",
    "Modify the code below so that it represents a <u>95%</u> confidence interval."
   ]
  },
  {
   "cell_type": "code",
   "execution_count": null,
   "metadata": {},
   "outputs": [],
   "source": [
    "quantile(each.sample.mean,c(0.05,0.95))"
   ]
  },
  {
   "cell_type": "markdown",
   "metadata": {},
   "source": [
    "### Task:\n",
    "Interpret your 95% confidence interval. Use the fill-in-the-blank text from above as a model.\n",
    "\n",
    "[Write your interpretation here.]"
   ]
  },
  {
   "cell_type": "markdown",
   "metadata": {},
   "source": [
    "### Confident in our <u>process</u>\n",
    "What does it really mean to be \"90% confident that the population mean is between ______ and ______\"?\n",
    "\n",
    "Run this code below to set up a list of our confidence intervals."
   ]
  },
  {
   "cell_type": "code",
   "execution_count": null,
   "metadata": {},
   "outputs": [],
   "source": [
    "intervals = list()\n",
    "run.number=1"
   ]
  },
  {
   "cell_type": "markdown",
   "metadata": {},
   "source": [
    "Run this block of code below at least ten times."
   ]
  },
  {
   "cell_type": "code",
   "execution_count": null,
   "metadata": {},
   "outputs": [],
   "source": [
    "# Gather a new sample each time\n",
    "rainfall.sample = sample(rainfall.population,12)\n",
    "# Create a confidence interval for each new sample\n",
    "each.sample.mean = c()\n",
    "n = length(rainfall.sample)\n",
    "for(i in 1:1000) {\n",
    "    new.sample = sample(rainfall.sample,n,replace=T)\n",
    "    each.sample.mean = c(each.sample.mean, mean(new.sample))\n",
    "}\n",
    "\n",
    "intervals[[run.number]] = quantile(each.sample.mean,c(0.05,0.95))\n",
    "run.number = run.number + 1\n",
    "print(intervals)"
   ]
  },
  {
   "cell_type": "markdown",
   "metadata": {},
   "source": [
    "### Task:\n",
    "Remember our population mean? (&mu; = 72) Go back and look at the \"confidence intervals\" you produced using this process. How many of them above produce an interval that contains the population mean? What *percent* of them contained the population mean &mu; = 72?\n",
    "\n",
    "[Type answer here]\n",
    "\n",
    "Use this result to interpret what it means to be \"90% confident\" that a confidence interval based on a single sample contains the population mean. Why would it be incorrect to say there is a \"90% chance\" that a confidence interval based on a single sample contains the pouplation mean?\n",
    "\n",
    "[Type answer here]"
   ]
  },
  {
   "cell_type": "markdown",
   "metadata": {},
   "source": [
    "### Final Task:\n",
    "Researchers are interested the mean weight of a high school student's backpack. A random sample of 21 students was taken, and the weight (in pounds) of each backpack was measured. The data is displayed below.\n",
    "\n",
    "**Weight(pounds) of backpacks:** 11.6, 12.5, 16.4, 15.8, 11.8, 9.8, 7.1, 14.8, 21.3, 12.8, 19.8, 8.7, 12.9, 6.1, 13.2, 10, 8.4, 9.1, 9, 13.4, 7.7\n",
    "\n",
    "Use the code above to construct a 90% confidence interval for the population mean backpack weight."
   ]
  },
  {
   "cell_type": "code",
   "execution_count": null,
   "metadata": {},
   "outputs": [],
   "source": []
  },
  {
   "cell_type": "markdown",
   "metadata": {},
   "source": [
    "Interpret your 90% confidence interval in this context:\n",
    "\n",
    "[Type your response here.]"
   ]
  }
 ],
 "metadata": {
  "kernelspec": {
   "display_name": "R",
   "language": "R",
   "name": "ir"
  },
  "language_info": {
   "codemirror_mode": "r",
   "file_extension": ".r",
   "mimetype": "text/x-r-source",
   "name": "R",
   "pygments_lexer": "r",
   "version": "3.6.1"
  }
 },
 "nbformat": 4,
 "nbformat_minor": 2
}
