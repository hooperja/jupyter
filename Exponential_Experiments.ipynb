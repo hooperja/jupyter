{
 "cells": [
  {
   "cell_type": "markdown",
   "metadata": {},
   "source": [
    "## Start here\n",
    "To run \"cells\" in this notebook, click inside the cell and hit shift-enter (hold down \"shift\" and hit \"enter\"). Begin by running this \"initialization cell\"."
   ]
  },
  {
   "cell_type": "code",
   "execution_count": null,
   "metadata": {},
   "outputs": [],
   "source": [
    "# Initialization cell\n",
    "# Run this cell by holding onto \"shift\" and hitting \"enter\".\n",
    "options(digits=9, repr.plot.width=4.5, repr.plot.height=3.5, scipen=5)\n",
    "set.seed(20195029)"
   ]
  },
  {
   "cell_type": "markdown",
   "metadata": {},
   "source": [
    "## Really fancy math: \"Differential Equations\"\n",
    "A *differential equation* is an equation that expresses how different quantities change together. When one thing changes (such as an object's temperature), other things change often change according to a formula or model.\n",
    "\n",
    "Example:\n",
    "*(Change in temperature) = 0.0005&ast;(Room Temperature - Current Temperature)* is a differential Equation.\n",
    "\n",
    "It communicates how the temperature changes based on the background room temperature and the current temperature of the object.\n",
    "\n",
    "There is also a \"constant\" (the 0.0005 in the equation) that would be unique to the environment such as the size of the room. The value of 0.0005 would mean something like, \"The temperature change each second is 0.0005 (0.05%) of the temperature difference with the background room temperature.\"\n",
    "\n",
    "Let's try this out with a cold glass of water (with no ice) that is warming up, just sitting in a room."
   ]
  },
  {
   "cell_type": "code",
   "execution_count": null,
   "metadata": {},
   "outputs": [],
   "source": [
    "# Run this code to tell the computer the initial temperatures\n",
    "room.temperature = 72\n",
    "water.temperature = 36"
   ]
  },
  {
   "cell_type": "code",
   "execution_count": null,
   "metadata": {},
   "outputs": [],
   "source": [
    "# Run this code to watch the water change temperature.\n",
    "# Run it a few times\n",
    "water.temperature.change = 0.0005*(room.temperature - water.temperature)\n",
    "water.temperature = water.temperature + water.temperature.change\n",
    "print(water.temperature)"
   ]
  },
  {
   "cell_type": "markdown",
   "metadata": {},
   "source": [
    "## Using a loop\n",
    "Rather than running a single cell over and over, we could use a \"loop\" and observe the output."
   ]
  },
  {
   "cell_type": "code",
   "execution_count": null,
   "metadata": {},
   "outputs": [],
   "source": [
    "room.temperature = 72\n",
    "water.temperature = 36\n",
    "\n",
    "for(i in 1:10) {\n",
    "    water.temperature.change = 0.0005*(room.temperature - water.temperature)\n",
    "    water.temperature = water.temperature + water.temperature.change\n",
    "    print(water.temperature)\n",
    "}"
   ]
  },
  {
   "cell_type": "markdown",
   "metadata": {},
   "source": [
    "## Storing results in a \"container\"\n",
    "\n",
    "The output above is better, but the results are not stored anywhere. We can not refer back to them or see them as a plot."
   ]
  },
  {
   "cell_type": "code",
   "execution_count": null,
   "metadata": {},
   "outputs": [],
   "source": [
    "# Run this code to see the output\n",
    "room.temperature = 72\n",
    "water.temperature = 36\n",
    "temperatures = c(water.temperature)\n",
    "\n",
    "\n",
    "for(i in 1:40) {\n",
    "    water.temperature.change = 0.0005*(room.temperature - water.temperature)\n",
    "    water.temperature = water.temperature + water.temperature.change\n",
    "    temperatures = c(temperatures,water.temperature)\n",
    "}\n",
    "\n",
    "print(temperatures)"
   ]
  },
  {
   "cell_type": "markdown",
   "metadata": {},
   "source": [
    "## Adding a plot\n",
    "\n"
   ]
  },
  {
   "cell_type": "code",
   "execution_count": null,
   "metadata": {},
   "outputs": [],
   "source": [
    "plot(temperatures, xlab = \"Time(seconds)\" , ylab = \"Temperature (F)\")"
   ]
  },
  {
   "cell_type": "markdown",
   "metadata": {},
   "source": [
    "## Adding more to the plot\n",
    "\n",
    "In the \"loop\" above, we let it run for 40 times. In the \"loop\" below, it will run 1200 times and then make a plot.\n",
    "\n",
    "**Your task**: Use the output below to estimate the number of seconds until the glass of water is at 50 degrees."
   ]
  },
  {
   "cell_type": "code",
   "execution_count": null,
   "metadata": {},
   "outputs": [],
   "source": [
    "# Run this code to see the output\n",
    "room.temperature = 72\n",
    "water.temperature = 36\n",
    "temperatures = c(water.temperature)\n",
    "\n",
    "for(i in 1:1200) {\n",
    "    water.temperature.change = 0.0005*(room.temperature - water.temperature)\n",
    "    water.temperature = water.temperature + water.temperature.change\n",
    "    temperatures = c(temperatures,water.temperature)\n",
    "}\n",
    "\n",
    "plot(temperatures, xlab = \"Time(seconds)\" , ylab = \"Temperature (F)\")\n",
    "abline(h=50 , col=\"red\")"
   ]
  },
  {
   "cell_type": "markdown",
   "metadata": {},
   "source": [
    "## Question\n",
    "\n",
    "The graph above has a curve to it.\n",
    "\n",
    "Using the differential equation: (Change in temperature) = 0.0005*(Room Temperature - Current Temperature)\n",
    "\n",
    "Explain why the graph has a curve. Why is it not linear? (Why is the change in temperature not constant?)\n",
    "\n",
    "[ Double click in this box and type your answer here. ]\n"
   ]
  },
  {
   "cell_type": "markdown",
   "metadata": {},
   "source": [
    "# Modify code\n",
    "\n",
    "**Your task**: Copy-and-paste the code above. Modify the code estimate the number of seconds it will take until the glass of water is at <u>60 degrees</u>. Hint: change how many times the loop runs, and change the last line of code that displays the red horizontal line."
   ]
  },
  {
   "cell_type": "code",
   "execution_count": null,
   "metadata": {},
   "outputs": [],
   "source": []
  },
  {
   "cell_type": "markdown",
   "metadata": {},
   "source": [
    "# Modify code #2\n",
    "\n",
    "**Your task**: Copy-and-paste the code again. Modify the code to represent a 210 degree cup of coffee (or hot chocolate). Your task will be to find out how long it takes for the coffee to reach 120 degrees.\n",
    "\n",
    "*(Background: The \"threshold of pain\" is about 120 degrees. If you touch a 120 degree object, you will feel pain. Below this, it will feel hot but not painful.)*"
   ]
  },
  {
   "cell_type": "code",
   "execution_count": null,
   "metadata": {},
   "outputs": [],
   "source": []
  },
  {
   "cell_type": "markdown",
   "metadata": {},
   "source": [
    "## Modify code #3: Find the constant\n",
    "\n",
    "**Your task**: Modify the code below. Find out what value of the constant (the 0.005) allows the model to match the following information:\n",
    "- At the start (time = 0 seconds), the glass of water was at 36 degrees.\n",
    "- At 600 seconds, the glass of water was at 50 degrees.\n",
    "\n",
    "What value of the constant matches this information?"
   ]
  },
  {
   "cell_type": "code",
   "execution_count": null,
   "metadata": {},
   "outputs": [],
   "source": [
    "# Run this code to see the output\n",
    "room.temperature = 72\n",
    "water.temperature = 36\n",
    "temperatures = c(water.temperature)\n",
    "\n",
    "for(i in 1:1200) {\n",
    "    water.temperature.change = 0.00050*(room.temperature - water.temperature)\n",
    "    water.temperature = water.temperature + water.temperature.change\n",
    "    temperatures = c(temperatures,water.temperature)\n",
    "}\n",
    "\n",
    "plot(temperatures, xlab = \"Time(seconds)\" , ylab = \"Temperature (F)\")\n",
    "abline(h=50 , col=\"red\")\n",
    "abline(v=600 , col=\"purple\")"
   ]
  },
  {
   "cell_type": "markdown",
   "metadata": {},
   "source": [
    "## Final Challenge\n",
    "\n",
    "Your task: Copy code from above and modify it to match the following situation.\n",
    "\n",
    "**Situation: You pull a turkey out of the oven, and the thermometer says 182 degrees.**\n",
    "\n",
    "- At the start (time = 0 seconds), the turkey was at 182 degrees.\n",
    "- After fifteen minutes (time = 900 seconds), the turkey was at 148 degrees.\n",
    "\n",
    "**Q: When will the turkey be at 120 degrees (the threshold of pain) so that it can be prepared for the meal?**"
   ]
  },
  {
   "cell_type": "code",
   "execution_count": null,
   "metadata": {},
   "outputs": [],
   "source": []
  }
 ],
 "metadata": {
  "kernelspec": {
   "display_name": "R",
   "language": "R",
   "name": "ir"
  },
  "language_info": {
   "codemirror_mode": "r",
   "file_extension": ".r",
   "mimetype": "text/x-r-source",
   "name": "R",
   "pygments_lexer": "r",
   "version": "3.6.2"
  }
 },
 "nbformat": 4,
 "nbformat_minor": 2
}
